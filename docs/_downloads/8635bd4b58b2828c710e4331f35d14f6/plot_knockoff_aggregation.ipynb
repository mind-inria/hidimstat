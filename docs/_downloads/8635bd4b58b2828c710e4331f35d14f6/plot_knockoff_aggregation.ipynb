{
  "cells": [
    {
      "cell_type": "markdown",
      "metadata": {},
      "source": [
        "\n# Knockoff aggregation on simulated data\n\nIn this example, we show an example of variable selection using\nmodel-X Knockoffs introduced by :footcite:t:`Candes_2018`. A notable\ndrawback of this procedure is the randomness associated with\nthe knockoff generation process. This can result in unstable\ninference.\n\nThis example exhibits the two aggregation procedures described\nby :footcite:t:`pmlr-v119-nguyen20a` and :footcite:t:`Ren_2023` to derandomize\ninference.\n\n## References\n.. footbibliography::\n"
      ]
    },
    {
      "cell_type": "markdown",
      "metadata": {},
      "source": [
        "## Imports needed for this script\n\n"
      ]
    },
    {
      "cell_type": "code",
      "execution_count": null,
      "metadata": {
        "collapsed": false
      },
      "outputs": [],
      "source": [
        "import matplotlib.pyplot as plt\nimport numpy as np\nfrom sklearn.utils import check_random_state\n\nfrom hidimstat.data_simulation import simu_data\nfrom hidimstat.knockoff_aggregation import knockoff_aggregation\nfrom hidimstat.knockoffs import model_x_knockoff\nfrom hidimstat.utils import cal_fdp_power\n\nplt.rcParams.update({\"font.size\": 26})\n\n# Number of observations\nn_subjects = 500\n# Number of variables\nn_clusters = 500\n# Correlation parameter\nrho = 0.7\n# Ratio of number of variables with non-zero coefficients over total\n# coefficients\nsparsity = 0.1\n# Desired controlled False Discovery Rate (FDR) level\nfdr = 0.1\nseed = 45\nn_bootstraps = 25\nn_jobs = 10\nruns = 20\n\nrng = check_random_state(seed)\nseed_list = rng.randint(1, np.iinfo(np.int32).max, runs)\n\n\ndef single_run(\n    n_subjects, n_clusters, rho, sparsity, fdr, n_bootstraps, n_jobs, seed=None\n):\n    # Generate data\n    X, y, _, non_zero_index = simu_data(\n        n_subjects, n_clusters, rho=rho, sparsity=sparsity, seed=seed\n    )\n\n    # Use model-X Knockoffs [1]\n    mx_selection = model_x_knockoff(X, y, fdr=fdr, n_jobs=n_jobs, seed=seed)\n\n    fdp_mx, power_mx = cal_fdp_power(mx_selection, non_zero_index)\n    # Use p-values aggregation [2]\n    aggregated_ko_selection = knockoff_aggregation(\n        X,\n        y,\n        fdr=fdr,\n        n_bootstraps=n_bootstraps,\n        n_jobs=n_jobs,\n        gamma=0.3,\n        random_state=seed,\n    )\n\n    fdp_pval, power_pval = cal_fdp_power(aggregated_ko_selection, non_zero_index)\n\n    # Use e-values aggregation [1]\n    eval_selection = knockoff_aggregation(\n        X,\n        y,\n        fdr=fdr,\n        method=\"e-values\",\n        n_bootstraps=n_bootstraps,\n        n_jobs=n_jobs,\n        gamma=0.3,\n        random_state=seed,\n    )\n\n    fdp_eval, power_eval = cal_fdp_power(eval_selection, non_zero_index)\n\n    return fdp_mx, fdp_pval, fdp_eval, power_mx, power_pval, power_eval\n\n\nfdps_mx = []\nfdps_pval = []\nfdps_eval = []\npowers_mx = []\npowers_pval = []\npowers_eval = []\n\nfor seed in seed_list:\n    fdp_mx, fdp_pval, fdp_eval, power_mx, power_pval, power_eval = single_run(\n        n_subjects, n_clusters, rho, sparsity, fdr, n_bootstraps, n_jobs, seed=seed\n    )\n    fdps_mx.append(fdp_mx)\n    fdps_pval.append(fdp_pval)\n    fdps_eval.append(fdp_eval)\n\n    powers_mx.append(fdp_mx)\n    powers_pval.append(power_pval)\n    powers_eval.append(power_eval)\n\n# Plot FDP and Power distributions\n\nfdps = [fdps_mx, fdps_pval, fdps_eval]\npowers = [powers_mx, powers_pval, powers_eval]\n\n\ndef plot_results(bounds, fdr, nsubjects, n_clusters, rho, power=False):\n    plt.figure(figsize=(10, 10), layout=\"constrained\")\n    for nb in range(len(bounds)):\n        for i in range(len(bounds[nb])):\n            y = bounds[nb][i]\n            x = np.random.normal(nb + 1, 0.05)\n            plt.scatter(x, y, alpha=0.65, c=\"blue\")\n\n    plt.boxplot(bounds, sym=\"\")\n    if power:\n        plt.xticks(\n            [1, 2, 3],\n            [\"MX Knockoffs\", \"Quantile aggregation\", \"e-values aggregation\"],\n            rotation=45,\n            ha=\"right\",\n        )\n        plt.title(f\"FDR = {fdr}, n = {nsubjects}, p = {n_clusters}, rho = {rho}\")\n        plt.ylabel(\"Empirical Power\")\n\n    else:\n        plt.hlines(fdr, xmin=0.5, xmax=3.5, label=\"Requested FDR control\", color=\"red\")\n        plt.xticks(\n            [1, 2, 3],\n            [\"MX Knockoffs\", \"Quantile aggregation\", \"e-values aggregation\"],\n            rotation=45,\n            ha=\"right\",\n        )\n        plt.title(f\"FDR = {fdr}, n = {nsubjects}, p = {n_clusters}, rho = {rho}\")\n        plt.ylabel(\"Empirical FDP\")\n        plt.legend(loc=\"best\")\n\n    plt.show()\n\n\nplot_results(fdps, fdr, n_subjects, n_clusters, rho)\nplot_results(powers, fdr, n_subjects, n_clusters, rho, power=True)"
      ]
    }
  ],
  "metadata": {
    "kernelspec": {
      "display_name": "Python 3",
      "language": "python",
      "name": "python3"
    },
    "language_info": {
      "codemirror_mode": {
        "name": "ipython",
        "version": 3
      },
      "file_extension": ".py",
      "mimetype": "text/x-python",
      "name": "python",
      "nbconvert_exporter": "python",
      "pygments_lexer": "ipython3",
      "version": "3.12.9"
    }
  },
  "nbformat": 4,
  "nbformat_minor": 0
}