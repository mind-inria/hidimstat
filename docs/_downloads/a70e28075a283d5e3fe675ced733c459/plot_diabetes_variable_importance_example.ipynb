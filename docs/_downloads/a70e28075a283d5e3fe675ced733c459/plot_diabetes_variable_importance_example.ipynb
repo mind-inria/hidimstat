{
  "cells": [
    {
      "cell_type": "markdown",
      "metadata": {},
      "source": [
        "\n# Variable Importance on diabetes dataset\n\nThis example compares the standard permutation approach for variable importance\nand its conditional variant on the diabetes dataset for the single-level case.\n"
      ]
    },
    {
      "cell_type": "markdown",
      "metadata": {},
      "source": [
        "## Imports needed for this script\n\n"
      ]
    },
    {
      "cell_type": "code",
      "execution_count": null,
      "metadata": {
        "collapsed": false
      },
      "outputs": [],
      "source": [
        "import matplotlib.pyplot as plt\nimport numpy as np\nfrom sklearn.datasets import load_diabetes\n\nfrom hidimstat.BBI import BlockBasedImportance\n\nplt.rcParams.update({\"font.size\": 14})\n\n# Fixing the random seed\nrng = np.random.RandomState(2024)\n\ndiabetes = load_diabetes()\nX, y = diabetes.data, diabetes.target\n\n# Use or not a cross-validation with the provided learner\nk_fold = 2\n# Identifying the categorical (nominal & ordinal) variables\nvariables_categories = {}"
      ]
    },
    {
      "cell_type": "markdown",
      "metadata": {},
      "source": [
        "## Standard Variable Importance\n\n"
      ]
    },
    {
      "cell_type": "code",
      "execution_count": null,
      "metadata": {
        "collapsed": false
      },
      "outputs": [],
      "source": [
        "bbi_perm = BlockBasedImportance(\n    estimator=\"RF\",\n    importance_estimator=\"residuals_RF\",\n    do_hypertuning=True,\n    dict_hypertuning=None,\n    conditional=False,\n    group_stacking=False,\n    problem_type=\"regression\",\n    k_fold=k_fold,\n    variables_categories=variables_categories,\n    n_jobs=10,\n    verbose=0,\n    n_permutations=100,\n)\nbbi_perm.fit(X, y)\nprint(\"Computing the importance scores with standard permutation\")\nresults_perm = bbi_perm.compute_importance()\npvals_perm = -np.log10(results_perm[\"pval\"] + 1e-10)"
      ]
    },
    {
      "cell_type": "markdown",
      "metadata": {},
      "source": [
        "## Conditional Variable Importance\n\n"
      ]
    },
    {
      "cell_type": "code",
      "execution_count": null,
      "metadata": {
        "collapsed": false
      },
      "outputs": [],
      "source": [
        "bbi_cond = BlockBasedImportance(\n    estimator=\"RF\",\n    importance_estimator=\"residuals_RF\",\n    do_hypertuning=True,\n    dict_hypertuning=None,\n    conditional=True,\n    group_stacking=False,\n    problem_type=\"regression\",\n    k_fold=k_fold,\n    variables_categories=variables_categories,\n    n_jobs=10,\n    verbose=0,\n    n_permutations=100,\n)\nbbi_cond.fit(X, y)\nprint(\"Computing the importance scores with conditional permutation\")\nresults_cond = bbi_cond.compute_importance()\npvals_cond = -np.log10(results_cond[\"pval\"] + 1e-5)"
      ]
    },
    {
      "cell_type": "markdown",
      "metadata": {},
      "source": [
        "## Plotting the comparison\n\n"
      ]
    },
    {
      "cell_type": "code",
      "execution_count": null,
      "metadata": {
        "collapsed": false
      },
      "outputs": [],
      "source": [
        "list_res = {\"Perm\": [], \"Cond\": []}\nfor ind_el, el in enumerate(diabetes.feature_names):\n    list_res[\"Perm\"].append(pvals_perm[ind_el][0])\n    list_res[\"Cond\"].append(pvals_cond[ind_el][0])\n\nx = np.arange(len(diabetes.feature_names))\nwidth = 0.25  # the width of the bars\nmultiplier = 0\nfig, ax = plt.subplots(figsize=(5, 5), layout=\"constrained\")\n\nfor attribute, measurement in list_res.items():\n    offset = width * multiplier\n    rects = ax.bar(x + offset, measurement, width, label=attribute)\n    multiplier += 1\n\nax.set_ylabel(r\"$-log_{10}p_{val}$\")\nax.set_xticks(x + width / 2, diabetes.feature_names)\nax.legend(loc=\"upper left\", ncols=2)\nax.set_ylim(0, 3)\nax.axhline(y=-np.log10(0.05), color=\"r\", linestyle=\"-\")\n\nplt.show()"
      ]
    }
  ],
  "metadata": {
    "kernelspec": {
      "display_name": "Python 3",
      "language": "python",
      "name": "python3"
    },
    "language_info": {
      "codemirror_mode": {
        "name": "ipython",
        "version": 3
      },
      "file_extension": ".py",
      "mimetype": "text/x-python",
      "name": "python",
      "nbconvert_exporter": "python",
      "pygments_lexer": "ipython3",
      "version": "3.12.4"
    }
  },
  "nbformat": 4,
  "nbformat_minor": 0
}