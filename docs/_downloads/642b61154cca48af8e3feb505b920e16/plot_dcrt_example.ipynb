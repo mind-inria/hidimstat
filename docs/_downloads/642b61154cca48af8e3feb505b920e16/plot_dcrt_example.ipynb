{
  "cells": [
    {
      "cell_type": "markdown",
      "metadata": {},
      "source": [
        "\n# Distilled Conditional Randomization Test (dCRT) using Lasso vs Random Forest learners\n\nThis example compares the performance of d0crt based on\nthe lasso (1) and random forest (2) implementations. The number of\nrepetitions is set to 10. The metrics used are the type-I error and\nthe power\n"
      ]
    },
    {
      "cell_type": "markdown",
      "metadata": {},
      "source": [
        "## Imports needed for this script\n\n"
      ]
    },
    {
      "cell_type": "code",
      "execution_count": null,
      "metadata": {
        "collapsed": false
      },
      "outputs": [],
      "source": [
        "import matplotlib.pyplot as plt\nimport numpy as np\nfrom hidimstat.dcrt import dcrt_zero, dcrt_pvalue\nfrom hidimstat._utils.scenario import multivariate_1D_simulation\n\nplt.rcParams.update({\"font.size\": 21})\n\ntypeI_error = {\"Lasso\": [], \"Forest\": []}\npower = {\"Lasso\": [], \"Forest\": []}"
      ]
    },
    {
      "cell_type": "markdown",
      "metadata": {},
      "source": [
        "## Processing the computations\n\n"
      ]
    },
    {
      "cell_type": "code",
      "execution_count": null,
      "metadata": {
        "collapsed": false
      },
      "outputs": [],
      "source": [
        "for sim_ind in range(10):\n    print(f\"Processing: {sim_ind+1}\")\n    np.random.seed(sim_ind)\n\n    # Number of observations\n    n = 1000\n    # Number of variables\n    p = 10\n    # Number of relevant variables\n    n_signal = 2\n    # Signal-to-noise ratio\n    snr = 4\n    # Correlation coefficient\n    rho = 0.8\n    # Nominal false positive rate\n    alpha = 5e-2\n\n    X, y, _, __ = multivariate_1D_simulation(\n        n_samples=n, n_features=p, support_size=n_signal, rho=rho, seed=sim_ind\n    )\n\n    # Applying a reLu function on the outcome y to get non-linear relationships\n    y = np.maximum(0.0, y)\n\n    ## dcrt Lasso ##\n    selection_features, X_res, sigma2, y_res = dcrt_zero(X, y, screening=False)\n    variables_important_lasso, pvals_lasso, ts_lasso = dcrt_pvalue(\n        selection_features, X_res, sigma2, y_res\n    )\n    typeI_error[\"Lasso\"].append(sum(pvals_lasso[n_signal:] < alpha) / (p - n_signal))\n    power[\"Lasso\"].append(sum(pvals_lasso[:n_signal] < alpha) / (n_signal))\n\n    ## dcrt Random Forest ##\n    selection_features, X_res, sigma2, y_res = dcrt_zero(\n        X, y, screening=False, statistic=\"random_forest\"\n    )\n    rvariables_important_forest, pvals_forest, ts_forest = dcrt_pvalue(\n        selection_features, X_res, sigma2, y_res\n    )\n    typeI_error[\"Forest\"].append(sum(pvals_forest[n_signal:] < alpha) / (p - n_signal))\n    power[\"Forest\"].append(sum(pvals_forest[:n_signal] < alpha) / (n_signal))"
      ]
    },
    {
      "cell_type": "markdown",
      "metadata": {},
      "source": [
        "## Plotting the comparison\n\n"
      ]
    },
    {
      "cell_type": "code",
      "execution_count": null,
      "metadata": {
        "collapsed": false
      },
      "outputs": [],
      "source": [
        "fig, ax = plt.subplots(nrows=1, ncols=2, figsize=(15, 10))\nax[0].set_title(\"Type-I Error\")\nax[0].boxplot(typeI_error.values())\nax[0].set_xticklabels(typeI_error.keys())\nax[0].axhline(linewidth=1, color=\"r\")\n\nax[1].set_title(\"Power\")\nax[1].boxplot(power.values())\nax[1].set_xticklabels(power.keys())\nax[1].set_ylim(0.5, 1)\n\nplt.show()"
      ]
    }
  ],
  "metadata": {
    "kernelspec": {
      "display_name": "Python 3",
      "language": "python",
      "name": "python3"
    },
    "language_info": {
      "codemirror_mode": {
        "name": "ipython",
        "version": 3
      },
      "file_extension": ".py",
      "mimetype": "text/x-python",
      "name": "python",
      "nbconvert_exporter": "python",
      "pygments_lexer": "ipython3",
      "version": "3.12.10"
    }
  },
  "nbformat": 4,
  "nbformat_minor": 0
}